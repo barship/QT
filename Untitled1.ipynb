{
 "cells": [
  {
   "cell_type": "code",
   "execution_count": 1,
   "metadata": {},
   "outputs": [],
   "source": [
    "import sys\n",
    "import random\n",
    "from PySide6 import QtCore, QtWidgets, QtGui"
   ]
  },
  {
   "cell_type": "code",
   "execution_count": 2,
   "metadata": {},
   "outputs": [],
   "source": [
    "class MyWidget(QtWidgets.QWidget):\n",
    "    def __init__(self):\n",
    "        super().__init__()\n",
    "\n",
    "        self.hello = [\"Hallo Welt\", \"Hei maailma\", \"Hola Mundo\", \"Привет мир\"]\n",
    "\n",
    "        self.button = QtWidgets.QPushButton(\"Click me!\")\n",
    "        self.text = QtWidgets.QLabel(\"Hello World\",\n",
    "                                     alignment=QtCore.Qt.AlignCenter)\n",
    "\n",
    "        self.layout = QtWidgets.QVBoxLayout()\n",
    "        self.layout.addWidget(self.text)\n",
    "        self.layout.addWidget(self.button)\n",
    "        self.setLayout(self.layout)\n",
    "\n",
    "        self.button.clicked.connect(self.magic)\n",
    "\n",
    "    @QtCore.Slot()\n",
    "    def magic(self):\n",
    "        self.text.setText(random.choice(self.hello))"
   ]
  },
  {
   "cell_type": "code",
   "execution_count": null,
   "metadata": {},
   "outputs": [],
   "source": [
    "if __name__ == \"__main__\":\n",
    "    app = QtWidgets.QApplication([])\n",
    "\n",
    "    widget = MyWidget()\n",
    "    widget.resize(800, 600)\n",
    "    widget.show()\n",
    "\n",
    "    sys.exit(app.exec_())\n"
   ]
  },
  {
   "cell_type": "code",
   "execution_count": null,
   "metadata": {},
   "outputs": [],
   "source": []
  }
 ],
 "metadata": {
  "kernelspec": {
   "display_name": "Python 3",
   "language": "python",
   "name": "python3"
  },
  "language_info": {
   "codemirror_mode": {
    "name": "ipython",
    "version": 3
   },
   "file_extension": ".py",
   "mimetype": "text/x-python",
   "name": "python",
   "nbconvert_exporter": "python",
   "pygments_lexer": "ipython3",
   "version": "3.7.0"
  }
 },
 "nbformat": 4,
 "nbformat_minor": 4
}
